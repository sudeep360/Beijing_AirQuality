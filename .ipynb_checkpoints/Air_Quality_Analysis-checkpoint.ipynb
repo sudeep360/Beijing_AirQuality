{
 "cells": [
  {
   "cell_type": "code",
   "execution_count": 1,
   "id": "55c1714a",
   "metadata": {},
   "outputs": [],
   "source": [
    "import pandas as pd"
   ]
  },
  {
   "cell_type": "code",
   "execution_count": 2,
   "id": "8a5f470b",
   "metadata": {},
   "outputs": [],
   "source": [
    "air_quality=pd.read_csv('air_quality.csv')"
   ]
  },
  {
   "cell_type": "code",
   "execution_count": 3,
   "id": "107f5f15",
   "metadata": {},
   "outputs": [
    {
     "data": {
      "text/html": [
       "<div>\n",
       "<style scoped>\n",
       "    .dataframe tbody tr th:only-of-type {\n",
       "        vertical-align: middle;\n",
       "    }\n",
       "\n",
       "    .dataframe tbody tr th {\n",
       "        vertical-align: top;\n",
       "    }\n",
       "\n",
       "    .dataframe thead th {\n",
       "        text-align: right;\n",
       "    }\n",
       "</style>\n",
       "<table border=\"1\" class=\"dataframe\">\n",
       "  <thead>\n",
       "    <tr style=\"text-align: right;\">\n",
       "      <th></th>\n",
       "      <th>date_time</th>\n",
       "      <th>PM2.5</th>\n",
       "      <th>PM10</th>\n",
       "      <th>SO2</th>\n",
       "      <th>NO2</th>\n",
       "      <th>CO</th>\n",
       "      <th>O3</th>\n",
       "      <th>TEMP</th>\n",
       "      <th>PRES</th>\n",
       "      <th>DEWP</th>\n",
       "      <th>RAIN</th>\n",
       "      <th>wd</th>\n",
       "      <th>WSPM</th>\n",
       "      <th>station</th>\n",
       "    </tr>\n",
       "  </thead>\n",
       "  <tbody>\n",
       "    <tr>\n",
       "      <th>0</th>\n",
       "      <td>2013-03-01 00:00:00</td>\n",
       "      <td>9.0</td>\n",
       "      <td>9.0</td>\n",
       "      <td>3.0</td>\n",
       "      <td>17.0</td>\n",
       "      <td>300.0</td>\n",
       "      <td>89.0</td>\n",
       "      <td>-0.5</td>\n",
       "      <td>1024.5</td>\n",
       "      <td>-21.4</td>\n",
       "      <td>0.0</td>\n",
       "      <td>NNW</td>\n",
       "      <td>5.7</td>\n",
       "      <td>Dongsi</td>\n",
       "    </tr>\n",
       "    <tr>\n",
       "      <th>1</th>\n",
       "      <td>2013-03-01 01:00:00</td>\n",
       "      <td>4.0</td>\n",
       "      <td>4.0</td>\n",
       "      <td>3.0</td>\n",
       "      <td>16.0</td>\n",
       "      <td>300.0</td>\n",
       "      <td>88.0</td>\n",
       "      <td>-0.7</td>\n",
       "      <td>1025.1</td>\n",
       "      <td>-22.1</td>\n",
       "      <td>0.0</td>\n",
       "      <td>NW</td>\n",
       "      <td>3.9</td>\n",
       "      <td>Dongsi</td>\n",
       "    </tr>\n",
       "    <tr>\n",
       "      <th>2</th>\n",
       "      <td>2013-03-01 05:00:00</td>\n",
       "      <td>4.0</td>\n",
       "      <td>4.0</td>\n",
       "      <td>9.0</td>\n",
       "      <td>25.0</td>\n",
       "      <td>300.0</td>\n",
       "      <td>78.0</td>\n",
       "      <td>-2.4</td>\n",
       "      <td>1027.5</td>\n",
       "      <td>-21.3</td>\n",
       "      <td>0.0</td>\n",
       "      <td>NW</td>\n",
       "      <td>2.4</td>\n",
       "      <td>Dongsi</td>\n",
       "    </tr>\n",
       "    <tr>\n",
       "      <th>3</th>\n",
       "      <td>2013-03-01 06:00:00</td>\n",
       "      <td>5.0</td>\n",
       "      <td>5.0</td>\n",
       "      <td>10.0</td>\n",
       "      <td>29.0</td>\n",
       "      <td>400.0</td>\n",
       "      <td>67.0</td>\n",
       "      <td>-2.5</td>\n",
       "      <td>1028.2</td>\n",
       "      <td>-20.4</td>\n",
       "      <td>0.0</td>\n",
       "      <td>NW</td>\n",
       "      <td>2.2</td>\n",
       "      <td>Dongsi</td>\n",
       "    </tr>\n",
       "    <tr>\n",
       "      <th>4</th>\n",
       "      <td>2013-03-01 07:00:00</td>\n",
       "      <td>3.0</td>\n",
       "      <td>6.0</td>\n",
       "      <td>12.0</td>\n",
       "      <td>40.0</td>\n",
       "      <td>400.0</td>\n",
       "      <td>52.0</td>\n",
       "      <td>-1.4</td>\n",
       "      <td>1029.5</td>\n",
       "      <td>-20.4</td>\n",
       "      <td>0.0</td>\n",
       "      <td>NNW</td>\n",
       "      <td>3.0</td>\n",
       "      <td>Dongsi</td>\n",
       "    </tr>\n",
       "    <tr>\n",
       "      <th>...</th>\n",
       "      <td>...</td>\n",
       "      <td>...</td>\n",
       "      <td>...</td>\n",
       "      <td>...</td>\n",
       "      <td>...</td>\n",
       "      <td>...</td>\n",
       "      <td>...</td>\n",
       "      <td>...</td>\n",
       "      <td>...</td>\n",
       "      <td>...</td>\n",
       "      <td>...</td>\n",
       "      <td>...</td>\n",
       "      <td>...</td>\n",
       "      <td>...</td>\n",
       "    </tr>\n",
       "    <tr>\n",
       "      <th>95680</th>\n",
       "      <td>2017-02-28 15:00:00</td>\n",
       "      <td>9.0</td>\n",
       "      <td>9.0</td>\n",
       "      <td>2.0</td>\n",
       "      <td>22.0</td>\n",
       "      <td>300.0</td>\n",
       "      <td>91.0</td>\n",
       "      <td>15.4</td>\n",
       "      <td>1013.0</td>\n",
       "      <td>-15.0</td>\n",
       "      <td>0.0</td>\n",
       "      <td>NNW</td>\n",
       "      <td>3.3</td>\n",
       "      <td>Tiantan</td>\n",
       "    </tr>\n",
       "    <tr>\n",
       "      <th>95681</th>\n",
       "      <td>2017-02-28 16:00:00</td>\n",
       "      <td>10.0</td>\n",
       "      <td>29.0</td>\n",
       "      <td>3.0</td>\n",
       "      <td>21.0</td>\n",
       "      <td>300.0</td>\n",
       "      <td>94.0</td>\n",
       "      <td>14.9</td>\n",
       "      <td>1012.6</td>\n",
       "      <td>-15.4</td>\n",
       "      <td>0.0</td>\n",
       "      <td>NW</td>\n",
       "      <td>2.1</td>\n",
       "      <td>Tiantan</td>\n",
       "    </tr>\n",
       "    <tr>\n",
       "      <th>95682</th>\n",
       "      <td>2017-02-28 21:00:00</td>\n",
       "      <td>18.0</td>\n",
       "      <td>32.0</td>\n",
       "      <td>4.0</td>\n",
       "      <td>48.0</td>\n",
       "      <td>500.0</td>\n",
       "      <td>48.0</td>\n",
       "      <td>10.8</td>\n",
       "      <td>1014.2</td>\n",
       "      <td>-13.3</td>\n",
       "      <td>0.0</td>\n",
       "      <td>NW</td>\n",
       "      <td>1.1</td>\n",
       "      <td>Tiantan</td>\n",
       "    </tr>\n",
       "    <tr>\n",
       "      <th>95683</th>\n",
       "      <td>2017-02-28 22:00:00</td>\n",
       "      <td>15.0</td>\n",
       "      <td>42.0</td>\n",
       "      <td>5.0</td>\n",
       "      <td>52.0</td>\n",
       "      <td>600.0</td>\n",
       "      <td>44.0</td>\n",
       "      <td>10.5</td>\n",
       "      <td>1014.4</td>\n",
       "      <td>-12.9</td>\n",
       "      <td>0.0</td>\n",
       "      <td>NNW</td>\n",
       "      <td>1.2</td>\n",
       "      <td>Tiantan</td>\n",
       "    </tr>\n",
       "    <tr>\n",
       "      <th>95684</th>\n",
       "      <td>2017-02-28 23:00:00</td>\n",
       "      <td>15.0</td>\n",
       "      <td>50.0</td>\n",
       "      <td>5.0</td>\n",
       "      <td>68.0</td>\n",
       "      <td>700.0</td>\n",
       "      <td>21.0</td>\n",
       "      <td>8.6</td>\n",
       "      <td>1014.1</td>\n",
       "      <td>-15.9</td>\n",
       "      <td>0.0</td>\n",
       "      <td>NNE</td>\n",
       "      <td>1.3</td>\n",
       "      <td>Tiantan</td>\n",
       "    </tr>\n",
       "  </tbody>\n",
       "</table>\n",
       "<p>95685 rows × 14 columns</p>\n",
       "</div>"
      ],
      "text/plain": [
       "                 date_time  PM2.5  PM10   SO2   NO2     CO    O3  TEMP  \\\n",
       "0      2013-03-01 00:00:00    9.0   9.0   3.0  17.0  300.0  89.0  -0.5   \n",
       "1      2013-03-01 01:00:00    4.0   4.0   3.0  16.0  300.0  88.0  -0.7   \n",
       "2      2013-03-01 05:00:00    4.0   4.0   9.0  25.0  300.0  78.0  -2.4   \n",
       "3      2013-03-01 06:00:00    5.0   5.0  10.0  29.0  400.0  67.0  -2.5   \n",
       "4      2013-03-01 07:00:00    3.0   6.0  12.0  40.0  400.0  52.0  -1.4   \n",
       "...                    ...    ...   ...   ...   ...    ...   ...   ...   \n",
       "95680  2017-02-28 15:00:00    9.0   9.0   2.0  22.0  300.0  91.0  15.4   \n",
       "95681  2017-02-28 16:00:00   10.0  29.0   3.0  21.0  300.0  94.0  14.9   \n",
       "95682  2017-02-28 21:00:00   18.0  32.0   4.0  48.0  500.0  48.0  10.8   \n",
       "95683  2017-02-28 22:00:00   15.0  42.0   5.0  52.0  600.0  44.0  10.5   \n",
       "95684  2017-02-28 23:00:00   15.0  50.0   5.0  68.0  700.0  21.0   8.6   \n",
       "\n",
       "         PRES  DEWP  RAIN   wd  WSPM  station  \n",
       "0      1024.5 -21.4   0.0  NNW   5.7   Dongsi  \n",
       "1      1025.1 -22.1   0.0   NW   3.9   Dongsi  \n",
       "2      1027.5 -21.3   0.0   NW   2.4   Dongsi  \n",
       "3      1028.2 -20.4   0.0   NW   2.2   Dongsi  \n",
       "4      1029.5 -20.4   0.0  NNW   3.0   Dongsi  \n",
       "...       ...   ...   ...  ...   ...      ...  \n",
       "95680  1013.0 -15.0   0.0  NNW   3.3  Tiantan  \n",
       "95681  1012.6 -15.4   0.0   NW   2.1  Tiantan  \n",
       "95682  1014.2 -13.3   0.0   NW   1.1  Tiantan  \n",
       "95683  1014.4 -12.9   0.0  NNW   1.2  Tiantan  \n",
       "95684  1014.1 -15.9   0.0  NNE   1.3  Tiantan  \n",
       "\n",
       "[95685 rows x 14 columns]"
      ]
     },
     "execution_count": 3,
     "metadata": {},
     "output_type": "execute_result"
    }
   ],
   "source": [
    "air_quality"
   ]
  },
  {
   "cell_type": "code",
   "execution_count": 4,
   "id": "8012395f",
   "metadata": {},
   "outputs": [
    {
     "name": "stdout",
     "output_type": "stream",
     "text": [
      "<class 'pandas.core.frame.DataFrame'>\n",
      "RangeIndex: 95685 entries, 0 to 95684\n",
      "Data columns (total 14 columns):\n",
      " #   Column     Non-Null Count  Dtype  \n",
      "---  ------     --------------  -----  \n",
      " 0   date_time  95685 non-null  object \n",
      " 1   PM2.5      95685 non-null  float64\n",
      " 2   PM10       95685 non-null  float64\n",
      " 3   SO2        95685 non-null  float64\n",
      " 4   NO2        95685 non-null  float64\n",
      " 5   CO         95685 non-null  float64\n",
      " 6   O3         95685 non-null  float64\n",
      " 7   TEMP       95685 non-null  float64\n",
      " 8   PRES       95685 non-null  float64\n",
      " 9   DEWP       95685 non-null  float64\n",
      " 10  RAIN       95685 non-null  float64\n",
      " 11  wd         95685 non-null  object \n",
      " 12  WSPM       95685 non-null  float64\n",
      " 13  station    95685 non-null  object \n",
      "dtypes: float64(11), object(3)\n",
      "memory usage: 10.2+ MB\n"
     ]
    }
   ],
   "source": [
    "air_quality.info()"
   ]
  },
  {
   "cell_type": "code",
   "execution_count": 5,
   "id": "451c7e1f",
   "metadata": {},
   "outputs": [],
   "source": [
    "air_quality['date_time']=pd.to_datetime(air_quality['date_time'])"
   ]
  },
  {
   "cell_type": "code",
   "execution_count": null,
   "id": "6f996ccc",
   "metadata": {},
   "outputs": [],
   "source": [
    "air_quality['date_time'].dt.year"
   ]
  },
  {
   "cell_type": "code",
   "execution_count": null,
   "id": "86f5677b",
   "metadata": {},
   "outputs": [],
   "source": [
    "air_quality['year']=air_quality['date_time'].dt.year\n",
    "air_quality"
   ]
  },
  {
   "cell_type": "code",
   "execution_count": null,
   "id": "d58fc054",
   "metadata": {},
   "outputs": [],
   "source": [
    "air_quality['month']=air_quality['date_time'].dt.month_name()\n",
    "air_quality['day']=air_quality['date_time'].dt.day\n",
    "air_quality['day_of_the_week']=air_quality['date_time'].dt.day_name()\n",
    "air_quality['year']=air_quality['date_time'].dt.year\n",
    "\n",
    "air_quality"
   ]
  },
  {
   "cell_type": "code",
   "execution_count": null,
   "id": "2dfd0222",
   "metadata": {},
   "outputs": [],
   "source": [
    "datetime_range=air_quality['date_time'].max()-air_quality['date_time'].min()\n",
    "datetime_range"
   ]
  },
  {
   "cell_type": "code",
   "execution_count": null,
   "id": "2abd48d2",
   "metadata": {},
   "outputs": [],
   "source": [
    "datetime_range/pd.Timedelta(days=365)"
   ]
  },
  {
   "cell_type": "code",
   "execution_count": null,
   "id": "069fe666",
   "metadata": {},
   "outputs": [],
   "source": [
    "air_quality.plot('year','PM2.5')"
   ]
  },
  {
   "cell_type": "code",
   "execution_count": null,
   "id": "a15834f1",
   "metadata": {},
   "outputs": [],
   "source": [
    "air_quality['PM2.5'].hist()"
   ]
  },
  {
   "cell_type": "code",
   "execution_count": null,
   "id": "dd611731",
   "metadata": {},
   "outputs": [],
   "source": [
    "pm2_5=pd.cut(air_quality['PM2.5'],bins=10)\n",
    "pm2_5"
   ]
  },
  {
   "cell_type": "code",
   "execution_count": null,
   "id": "70b9f889",
   "metadata": {},
   "outputs": [],
   "source": [
    "pm2_5.value_counts()"
   ]
  },
  {
   "cell_type": "code",
   "execution_count": null,
   "id": "fe76fc0e",
   "metadata": {},
   "outputs": [],
   "source": [
    "air_quality['PM2.5_category']=pd.cut(air_quality['PM2.5'], bins=[0,12,35.4,55.4,150.4,250.4,999],\n",
    "                         labels=['Good','Moderate','Unhealthy for sensitive groups','Unhealthy','Very Unhealthy','Hazardous'])\n",
    "air_quality['PM2.5_category'].value_counts()"
   ]
  },
  {
   "cell_type": "code",
   "execution_count": null,
   "id": "39ee3bc5",
   "metadata": {
    "scrolled": false
   },
   "outputs": [],
   "source": [
    "air_quality['PM2.5_category'].hist(figsize=(12,8))"
   ]
  },
  {
   "cell_type": "markdown",
   "id": "d923e952",
   "metadata": {},
   "source": []
  },
  {
   "cell_type": "markdown",
   "id": "540259f4",
   "metadata": {},
   "source": []
  },
  {
   "cell_type": "markdown",
   "id": "f817a837",
   "metadata": {},
   "source": [
    "# Mapping to new values"
   ]
  },
  {
   "cell_type": "code",
   "execution_count": null,
   "id": "48f62be1",
   "metadata": {
    "scrolled": true
   },
   "outputs": [],
   "source": [
    "air_quality['day_of_the_week'].value_counts()"
   ]
  },
  {
   "cell_type": "code",
   "execution_count": null,
   "id": "100e94a0",
   "metadata": {},
   "outputs": [],
   "source": [
    "day_of_the_week_mapping={\n",
    "    'Monday':'Weekday',\n",
    "    'Tuesday':'Weekday',\n",
    "    'Wednesday':'Weekday',\n",
    "    'Thursday':'Weekday',\n",
    "    'Friday':'Weekday',\n",
    "    'Saturday':'Weekend',\n",
    "    'Sunday':'Weekend',\n",
    "}\n",
    "air_quality['day_of_the_week_type']=air_quality['day_of_the_week'].map(arg=day_of_the_week_mapping)"
   ]
  },
  {
   "cell_type": "code",
   "execution_count": null,
   "id": "1933e718",
   "metadata": {},
   "outputs": [],
   "source": [
    "air_quality['day_of_the_week_type','day_of_the_week']"
   ]
  },
  {
   "cell_type": "code",
   "execution_count": null,
   "id": "22299817",
   "metadata": {},
   "outputs": [],
   "source": [
    "#using function to map"
   ]
  },
  {
   "cell_type": "code",
   "execution_count": null,
   "id": "6ee24384",
   "metadata": {},
   "outputs": [],
   "source": [
    "air_quality['wd']"
   ]
  },
  {
   "cell_type": "code",
   "execution_count": null,
   "id": "4c7baba4",
   "metadata": {},
   "outputs": [],
   "source": [
    "def wd_direction(wd):\n",
    "    if wd[0]=='N':\n",
    "        return 'NORTH'\n",
    "    elif wd[0]=='S':\n",
    "        return 'SOUTH'\n",
    "    elif wd[0]=='E':\n",
    "        return 'EAST'\n",
    "    else:\n",
    "        return 'WEST'"
   ]
  },
  {
   "cell_type": "code",
   "execution_count": null,
   "id": "61a80df9",
   "metadata": {},
   "outputs": [],
   "source": [
    "air_quality['wd'].map(wd_direction).value_counts()"
   ]
  },
  {
   "cell_type": "code",
   "execution_count": null,
   "id": "0c7ae52e",
   "metadata": {},
   "outputs": [],
   "source": [
    "air_quality[['PM2.5','PM10']]"
   ]
  },
  {
   "cell_type": "code",
   "execution_count": null,
   "id": "53eda654",
   "metadata": {},
   "outputs": [],
   "source": [
    "air_quality.apply(lambda row: row['PM2.5']/row['PM10'],axis=1)"
   ]
  },
  {
   "cell_type": "code",
   "execution_count": null,
   "id": "6b05816e",
   "metadata": {},
   "outputs": [],
   "source": [
    "air_quality.head(3)"
   ]
  },
  {
   "cell_type": "code",
   "execution_count": null,
   "id": "7108a0ec",
   "metadata": {},
   "outputs": [],
   "source": [
    "air_quality.columns"
   ]
  },
  {
   "cell_type": "code",
   "execution_count": null,
   "id": "e0574d20",
   "metadata": {},
   "outputs": [],
   "source": [
    "air_quality['TEMP_CAT']=pd.qcut(air_quality['TEMP'],q=5,\n",
    "                               labels=['very cold','cold','moderate','warm','hot'])"
   ]
  },
  {
   "cell_type": "code",
   "execution_count": null,
   "id": "673b2206",
   "metadata": {},
   "outputs": [],
   "source": [
    "air_quality[['TEMP','TEMP_CAT','RAIN']]"
   ]
  },
  {
   "cell_type": "code",
   "execution_count": null,
   "id": "db9e3871",
   "metadata": {},
   "outputs": [],
   "source": [
    "#making a decission whether to stay home or go outside"
   ]
  },
  {
   "cell_type": "code",
   "execution_count": null,
   "id": "b2028822",
   "metadata": {},
   "outputs": [],
   "source": [
    "def activity_decission(pm25_cat,temp_cat,rain):\n",
    "    if pm25_cat in ['Good','Moderate'] and temp_cat in['moderate','warm'] and rain==0:\n",
    "        return 'Good Day to go out.'\n",
    "    else:\n",
    "        return 'Safe to stay indoors.'"
   ]
  },
  {
   "cell_type": "code",
   "execution_count": null,
   "id": "1a0ebb88",
   "metadata": {},
   "outputs": [],
   "source": [
    "air_quality['Activity_Decission']=air_quality.apply(lambda row: activity_decission(row['PM2.5_category'],row['TEMP_CAT'], row['RAIN']), axis=1)"
   ]
  },
  {
   "cell_type": "code",
   "execution_count": null,
   "id": "8c3c6e31",
   "metadata": {},
   "outputs": [],
   "source": [
    "air_quality[['PM2.5_category','TEMP','TEMP_CAT','RAIN','Activity_Decission']]"
   ]
  },
  {
   "cell_type": "code",
   "execution_count": null,
   "id": "244b1db7",
   "metadata": {},
   "outputs": [],
   "source": [
    "air_quality.info()"
   ]
  },
  {
   "cell_type": "code",
   "execution_count": null,
   "id": "39d184bc",
   "metadata": {},
   "outputs": [],
   "source": [
    "air_quality['TEMP'].describe()"
   ]
  },
  {
   "cell_type": "code",
   "execution_count": null,
   "id": "8c98baae",
   "metadata": {},
   "outputs": [],
   "source": [
    "air_quality['PM2.5_category'].describe()"
   ]
  },
  {
   "cell_type": "code",
   "execution_count": null,
   "id": "343e7966",
   "metadata": {},
   "outputs": [],
   "source": [
    "air_quality.describe(include=['object','category','bool'])"
   ]
  },
  {
   "cell_type": "code",
   "execution_count": null,
   "id": "e84c8182",
   "metadata": {},
   "outputs": [],
   "source": []
  }
 ],
 "metadata": {
  "kernelspec": {
   "display_name": "Python 3 (ipykernel)",
   "language": "python",
   "name": "python3"
  },
  "language_info": {
   "codemirror_mode": {
    "name": "ipython",
    "version": 3
   },
   "file_extension": ".py",
   "mimetype": "text/x-python",
   "name": "python",
   "nbconvert_exporter": "python",
   "pygments_lexer": "ipython3",
   "version": "3.9.13"
  }
 },
 "nbformat": 4,
 "nbformat_minor": 5
}
